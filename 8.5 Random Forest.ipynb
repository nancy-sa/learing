{
 "cells": [
  {
   "cell_type": "code",
   "execution_count": null,
   "id": "2ea89060",
   "metadata": {},
   "outputs": [],
   "source": [
    "### 画等高线图和散点图\n",
    "### 参数有模型，X，Y和标题\n",
    "def plot_estimator(estimator, X, y, title):\n",
    "    x_min, x_max = X[:, 0].min() - 1, X[:, 0].max() + 1\n",
    "    y_min, y_max = X[:, 1].min() - 1, X[:, 1].max() + 1\n",
    "    xx, yy = np.meshgrid(np.arange(x_min, x_max, 0.1),\n",
    "                         np.arange(y_min, y_max, 0.1))\n",
    "\n",
    "    Z = estimator.predict(np.c_[xx.ravel(), yy.ravel()])\n",
    "    Z = Z.reshape(xx.shape)\n",
    "\n",
    "    plt.plot()\n",
    "    plt.contourf(xx, yy, Z, alpha=0.4, cmap = plt.cm.RdYlBu)\n",
    "    plt.scatter(X[:, 0], X[:, 1], c=y,  cmap = plt.cm.brg)\n",
    "    plt.title(title)\n",
    "    plt.xlabel('Sepal.Length')\n",
    "    plt.ylabel('Sepal.Width')\n",
    "    plt.show()"
   ]
  },
  {
   "cell_type": "code",
   "execution_count": null,
   "id": "fe6986df",
   "metadata": {},
   "outputs": [],
   "source": [
    "from sklearn.datasets import load_iris\n",
    "from sklearn.svm import SVC\n",
    "from sklearn.linear_model import LogisticRegression\n",
    "from sklearn.ensemble import RandomForestClassifier\n",
    "from sklearn.tree import DecisionTreeClassifier\n",
    "import matplotlib.pyplot as plt\n",
    "import numpy as np\n",
    "iris = load_iris()"
   ]
  },
  {
   "cell_type": "code",
   "execution_count": null,
   "id": "a64f74cd",
   "metadata": {},
   "outputs": [],
   "source": [
    "X = iris.data[:,[0,1]]\n",
    "y = iris.target\n",
    "## 随机森林\n",
    "## 加大n_estimators，可以提高分割的准确率\n",
    "clf = RandomForestClassifier(n_estimators=100, criterion=\"entropy\", random_state=0)\n",
    "clf.fit(X, y)\n",
    "plot_estimator(clf, X, y, 'RandomForestClassifier')"
   ]
  },
  {
   "cell_type": "code",
   "execution_count": null,
   "id": "7ddc4b01",
   "metadata": {},
   "outputs": [],
   "source": [
    "clf.predict(iris.data)"
   ]
  },
  {
   "cell_type": "code",
   "execution_count": null,
   "id": "c20c3781",
   "metadata": {},
   "outputs": [],
   "source": [
    "from sklearn.svm import SVC\n",
    "from sklearn.linear_model import LogisticRegression\n",
    "from sklearn.ensemble import RandomForestClassifier\n",
    "from sklearn.tree import DecisionTreeClassifier\n",
    "\n",
    "X = iris.data[:,[0,1]]\n",
    "y = iris.target\n",
    "\n",
    "### 比较四种模型\n",
    "clf1 = SVC(kernel=\"rbf\")\n",
    "clf1.fit(X, y)\n",
    "\n",
    "clf2 = DecisionTreeClassifier()\n",
    "clf2.fit(X, y)\n",
    "\n",
    "clf3 = RandomForestClassifier(n_estimators=10, criterion=\"entropy\")\n",
    "clf3.fit(X, y)\n",
    "\n",
    "clf4 = LogisticRegression()\n",
    "clf4.fit(X, y)"
   ]
  },
  {
   "cell_type": "code",
   "execution_count": null,
   "id": "cca22df8",
   "metadata": {},
   "outputs": [],
   "source": [
    "### 一般随机森林的效果比较好\n",
    "### 逻辑回归的效果差一点\n",
    "plot_estimator(clf1, X, y, 'rbf')\n",
    "plot_estimator(clf2, X, y, 'DecisionTreeClassifier')\n",
    "plot_estimator(clf3, X, y, 'RandomForestClassifier')\n",
    "plot_estimator(clf4, X, y, 'LogisticRegression')"
   ]
  }
 ],
 "metadata": {
  "kernelspec": {
   "display_name": "Python 3 (ipykernel)",
   "language": "python",
   "name": "python3"
  },
  "language_info": {
   "codemirror_mode": {
    "name": "ipython",
    "version": 3
   },
   "file_extension": ".py",
   "mimetype": "text/x-python",
   "name": "python",
   "nbconvert_exporter": "python",
   "pygments_lexer": "ipython3",
   "version": "3.9.12"
  }
 },
 "nbformat": 4,
 "nbformat_minor": 5
}

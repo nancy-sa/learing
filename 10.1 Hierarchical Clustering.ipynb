{
 "cells": [
  {
   "cell_type": "markdown",
   "id": "0df148b8",
   "metadata": {},
   "source": [
    "### 只要能量测出数据间的距离，就可以分群\n",
    "### 先测量数据之间的距离，想对距离近的放到一起，再测量群之间的距离，相近的放到一起，直到区分的比较好"
   ]
  },
  {
   "cell_type": "code",
   "execution_count": null,
   "id": "ffc1e99b",
   "metadata": {},
   "outputs": [],
   "source": [
    "from sklearn.datasets import load_iris\n",
    "iris = load_iris()"
   ]
  },
  {
   "cell_type": "markdown",
   "id": "e762f0f4",
   "metadata": {},
   "source": [
    "#### 用scipy里的方法分群，步骤比较简单\n",
    "#### dendrogram生成树状图，linkage定义群之间的距离\n"
   ]
  },
  {
   "cell_type": "code",
   "execution_count": null,
   "id": "ad79ace0",
   "metadata": {},
   "outputs": [],
   "source": [
    "import scipy.cluster.hierarchy as sch\n",
    "import matplotlib.pyplot as plt\n",
    "dendrogram = sch.dendrogram(sch.linkage(iris.data, method = 'ward'))\n",
    "plt.title('Dendrogram')\n",
    "plt.xlabel('Iris')\n",
    "plt.ylabel('Euclidean distances')\n",
    "plt.show()"
   ]
  },
  {
   "cell_type": "code",
   "execution_count": null,
   "id": "21f772e2",
   "metadata": {},
   "outputs": [],
   "source": [
    "#### 用sklearn里面的方法分群，步骤比较麻烦\n",
    "#### affinity：数据之间的距离，linkage群之间的距离\n",
    "#### 最开始不用设定n_clusters，分群后看结果设定不同的值会有不同的分群效果，找效果最好的值\n",
    "#### 产生分群结果"
   ]
  },
  {
   "cell_type": "code",
   "execution_count": null,
   "id": "e5dfcf20",
   "metadata": {},
   "outputs": [],
   "source": [
    "from sklearn.cluster import AgglomerativeClustering\n",
    "hc = AgglomerativeClustering(n_clusters = 3, affinity = 'euclidean', linkage = 'ward')\n",
    "y_hc = hc.fit_predict(iris.data)\n",
    "\n",
    "y_hc"
   ]
  },
  {
   "cell_type": "code",
   "execution_count": null,
   "id": "1d6735ad",
   "metadata": {},
   "outputs": [],
   "source": [
    "### s是点的大小\n",
    "### y_hc == 0会返回布尔值，iris.data[y_hc == 0]可以得到属于聚类0的所有特征值\n",
    "### iris.data[y_hc == 0, 2]选出聚类0的第三个特征值（从0开始），即花瓣长度\n",
    "plt.scatter(iris.data[y_hc == 0, 2], iris.data[y_hc == 0, 3], s = 100, c = 'red', label = 'Cluster 1')\n",
    "plt.scatter(iris.data[y_hc == 1, 2], iris.data[y_hc == 1, 3], s = 100, c = 'blue', label = 'Cluster 2')\n",
    "plt.scatter(iris.data[y_hc == 2, 2], iris.data[y_hc == 2, 3], s = 100, c = 'green', label = 'Cluster 3')\n",
    "\n",
    "plt.title('Clusters of Iris')\n",
    "plt.xlabel('Petal.Length')\n",
    "plt.ylabel('Petal.Width')\n",
    "plt.legend()\n",
    "plt.show()"
   ]
  },
  {
   "cell_type": "code",
   "execution_count": null,
   "id": "6379b0f6",
   "metadata": {},
   "outputs": [],
   "source": [
    "### 真实分类结果\n",
    "plt.scatter(iris.data[iris.target == 0, 2], iris.data[iris.target == 0, 3], s = 100, c = 'red', label = 'Cluster 1')\n",
    "plt.scatter(iris.data[iris.target == 1, 2], iris.data[iris.target == 1, 3], s = 100, c = 'blue', label = 'Cluster 2')\n",
    "plt.scatter(iris.data[iris.target == 2, 2], iris.data[iris.target == 2, 3], s = 100, c = 'green', label = 'Cluster 3')\n",
    "\n",
    "plt.title('Clusters of Iris')\n",
    "plt.xlabel('Petal.Length')\n",
    "plt.ylabel('Petal.Width')\n",
    "plt.legend()\n",
    "plt.show()"
   ]
  }
 ],
 "metadata": {
  "kernelspec": {
   "display_name": "Python 3 (ipykernel)",
   "language": "python",
   "name": "python3"
  },
  "language_info": {
   "codemirror_mode": {
    "name": "ipython",
    "version": 3
   },
   "file_extension": ".py",
   "mimetype": "text/x-python",
   "name": "python",
   "nbconvert_exporter": "python",
   "pygments_lexer": "ipython3",
   "version": "3.9.12"
  }
 },
 "nbformat": 4,
 "nbformat_minor": 5
}

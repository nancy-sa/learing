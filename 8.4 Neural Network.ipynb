{
 "cells": [
  {
   "cell_type": "code",
   "execution_count": 1,
   "id": "bbcc3d69",
   "metadata": {},
   "outputs": [],
   "source": [
    "### 对于分类问题，关键是选择模型，画图方法都是相同的\n",
    "### 分清怎样的数据是用分类问题"
   ]
  },
  {
   "cell_type": "code",
   "execution_count": null,
   "id": "8139a301",
   "metadata": {},
   "outputs": [],
   "source": [
    "## 类神经网络\n",
    "### 与预测值相关的变量为输入值，给予一个较小的权重\n",
    "### 将输入值与权重组合，经过变换，得到预测值\n",
    "### 将预测值和真实值比较，设定一个误差，将结果传回输入值那边\n",
    "### 调整权重，重新循环，直到达到设定的误差"
   ]
  },
  {
   "cell_type": "code",
   "execution_count": null,
   "id": "259db20c",
   "metadata": {},
   "outputs": [],
   "source": [
    "import itertools\n",
    "from sklearn.datasets import load_digits\n",
    "import matplotlib.pyplot as plt\n",
    "from sklearn.neural_network import MLPClassifier\n",
    "from sklearn.preprocessing import StandardScaler\n",
    "import numpy as np\n",
    "### 加载sklearn数据集里面的手写数据load_digits\n",
    "digits = load_digits()"
   ]
  },
  {
   "cell_type": "code",
   "execution_count": null,
   "id": "19304ad1",
   "metadata": {},
   "outputs": [],
   "source": [
    "print(digits.DESCR)"
   ]
  },
  {
   "cell_type": "markdown",
   "id": "6220c8bc",
   "metadata": {},
   "source": [
    "### 显示手写数字"
   ]
  },
  {
   "cell_type": "code",
   "execution_count": null,
   "id": "ecb9ef55",
   "metadata": {},
   "outputs": [],
   "source": [
    "fig = plt.figure(figsize = (8,8))\n",
    "fig.subplots_adjust(left=0, right=1, bottom=0, top=1, hspace=0.05, wspace=0.05)\n",
    "# 绘制36张图在一个画布上\n",
    "# xticks=[] 和 yticks=[] 将 x 轴和 y 轴的刻度隐藏\n",
    "# interpolation='nearest' 设置为最近邻插值\n",
    "# ax.text() 在图像的左下角添加了手写数字的标签\n",
    "for i in range(36):\n",
    "    ax = fig.add_subplot(6, 6, i+1, xticks=[], yticks=[])\n",
    "    ax.imshow(digits.images[i],cmap=plt.cm.binary,interpolation='nearest')\n",
    "    ax.text(0, 7, str(digits.target[i]), color=\"red\", fontsize = 20)"
   ]
  },
  {
   "cell_type": "code",
   "execution_count": null,
   "id": "55399048",
   "metadata": {},
   "outputs": [],
   "source": [
    "digits.data.shape"
   ]
  },
  {
   "cell_type": "code",
   "execution_count": null,
   "id": "a81657ec",
   "metadata": {},
   "outputs": [],
   "source": [
    "digits.data"
   ]
  },
  {
   "cell_type": "markdown",
   "id": "bf4d236e",
   "metadata": {},
   "source": [
    "#### 处理数据（标准化）"
   ]
  },
  {
   "cell_type": "code",
   "execution_count": null,
   "id": "f03bac01",
   "metadata": {},
   "outputs": [],
   "source": [
    "### 标准化处理\n",
    "### scaler.transform(digits.data)缩放操作\n",
    "### 缩放操作会使用先前计算得到的均值和标准差来对数据进行标准化处理，以使每个特征的均值为 0，标准差为 1\n",
    "scaler = StandardScaler()\n",
    "scaler.fit(digits.data)\n",
    "X_scaled = scaler.transform(digits.data)"
   ]
  },
  {
   "cell_type": "code",
   "execution_count": null,
   "id": "88d36a69",
   "metadata": {},
   "outputs": [],
   "source": [
    "X_scaled"
   ]
  },
  {
   "cell_type": "markdown",
   "id": "d2a8ae95",
   "metadata": {},
   "source": [
    "### 建立分类器模型"
   ]
  },
  {
   "cell_type": "code",
   "execution_count": null,
   "id": "81d4129e",
   "metadata": {},
   "outputs": [],
   "source": [
    "### (30,30,30)，即有三个隐藏层，每个隐藏层包含 30 个神经元\n",
    "### 激活函数选择了 logistic 函数，它是一种常用的激活函数，可以将神经元的输出限制在 0 到 1 之间。\n",
    "### max_iter 参数指定了最大迭代次数为 1000，可以提高准确率\n",
    "mlp = MLPClassifier(hidden_layer_sizes=(30,30,30), activation='logistic', max_iter = 1000)\n",
    "mlp.fit(X_scaled,digits.target)"
   ]
  },
  {
   "cell_type": "code",
   "execution_count": null,
   "id": "41fb2e5f",
   "metadata": {},
   "outputs": [],
   "source": [
    "predicted = mlp.predict(X_scaled)"
   ]
  },
  {
   "cell_type": "code",
   "execution_count": null,
   "id": "c4996b75",
   "metadata": {},
   "outputs": [],
   "source": [
    "predicted = mlp.predict(X_scaled)\n",
    "fig = plt.figure(figsize = (8,8))\n",
    "fig.subplots_adjust(left=0, right=1, bottom=0, top=1, hspace=0.05, wspace=0.05)\n",
    "#### 显示手写图片，以及预测的数字\n",
    "for i in range(36):\n",
    "    ax = fig.add_subplot(6, 6, i+1, xticks=[], yticks=[])\n",
    "    ax.imshow(digits.images[i],cmap=plt.cm.binary,interpolation='nearest')\n",
    "    ax.text(0, 7, str('{}-{}'.format(digits.target[i],predicted[i])), color=\"red\", fontsize = 20)"
   ]
  },
  {
   "cell_type": "code",
   "execution_count": null,
   "id": "b6f4e76a",
   "metadata": {},
   "outputs": [],
   "source": [
    "\n",
    "res = []\n",
    "for i, j in zip(digits.target,predicted):\n",
    "    res.append(i==j)"
   ]
  },
  {
   "cell_type": "code",
   "execution_count": null,
   "id": "e9245348",
   "metadata": {},
   "outputs": [],
   "source": [
    "## 预测准确率\n",
    "sum(res) / len(digits.target) "
   ]
  }
 ],
 "metadata": {
  "kernelspec": {
   "display_name": "Python 3 (ipykernel)",
   "language": "python",
   "name": "python3"
  },
  "language_info": {
   "codemirror_mode": {
    "name": "ipython",
    "version": 3
   },
   "file_extension": ".py",
   "mimetype": "text/x-python",
   "name": "python",
   "nbconvert_exporter": "python",
   "pygments_lexer": "ipython3",
   "version": "3.9.12"
  }
 },
 "nbformat": 4,
 "nbformat_minor": 5
}

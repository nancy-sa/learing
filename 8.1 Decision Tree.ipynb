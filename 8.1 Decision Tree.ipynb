{
 "cells": [
  {
   "cell_type": "markdown",
   "id": "09d46826",
   "metadata": {},
   "source": [
    "#### iris = load_iris()，鸢尾花数据是sklearn数据集里面自带的，调用load_iris，将数据放到iris,之后可以使用各种函数得到里面的内容\n",
    "#### iris.DESCR得到数据的各种内容"
   ]
  },
  {
   "cell_type": "code",
   "execution_count": null,
   "id": "3d778390",
   "metadata": {},
   "outputs": [],
   "source": [
    "from sklearn.datasets import load_iris\n",
    "from sklearn import tree\n",
    "iris = load_iris()\n",
    "print(iris.DESCR)"
   ]
  },
  {
   "cell_type": "markdown",
   "id": "5b7d99fc",
   "metadata": {},
   "source": [
    "#### tree.DecisionTreeClassifier(max_depth=2)建立决策树模型，用.data得到数据，用fit训练模型"
   ]
  },
  {
   "cell_type": "code",
   "execution_count": null,
   "id": "a1f7d9fe",
   "metadata": {},
   "outputs": [],
   "source": [
    "clf = tree.DecisionTreeClassifier(max_depth=2)\n",
    "clf.fit(iris.data, iris.target)"
   ]
  },
  {
   "cell_type": "code",
   "execution_count": null,
   "id": "ed58b109",
   "metadata": {},
   "outputs": [],
   "source": [
    "clf.predict(iris.data)"
   ]
  },
  {
   "cell_type": "markdown",
   "id": "c488482c",
   "metadata": {},
   "source": [
    "#### 无法直接输出图像\n",
    "#### tree.export_graphviz将决策树导出为tree.dot，再用工具graphviz显示"
   ]
  },
  {
   "cell_type": "code",
   "execution_count": null,
   "id": "7998ec7a",
   "metadata": {},
   "outputs": [],
   "source": [
    "tree.export_graphviz(clf, out_file='tree.dot')"
   ]
  },
  {
   "cell_type": "code",
   "execution_count": null,
   "id": "ce5f5291",
   "metadata": {},
   "outputs": [],
   "source": [
    "%pylab inline\n",
    "from IPython.display import Image\n",
    "Image('tree.png')"
   ]
  },
  {
   "cell_type": "code",
   "execution_count": null,
   "id": "8e37473c",
   "metadata": {},
   "outputs": [],
   "source": [
    "from itertools import product\n",
    "import numpy as np\n",
    "import matplotlib.pyplot as plt\n",
    "from sklearn. datasets import load_iris\n",
    "from sklearn import tree\n",
    "\n",
    "iris = load_iris()\n",
    "\n",
    "## 得到花瓣的长和宽\n",
    "X = iris.data[:, [2, 3]]\n",
    "y = iris.target\n",
    "clf = tree.DecisionTreeClassifier(max_depth=2)\n",
    "clf.fit(X, y)"
   ]
  },
  {
   "cell_type": "code",
   "execution_count": null,
   "id": "a93a3f59",
   "metadata": {},
   "outputs": [],
   "source": [
    "plt.scatter(X[:,0],X[:,1],color=\"black\")"
   ]
  },
  {
   "cell_type": "code",
   "execution_count": null,
   "id": "b0b85785",
   "metadata": {},
   "outputs": [],
   "source": [
    "x_min, x_max = X[:, 0].min() - 1, X[:, 0].max() + 1\n",
    "y_min, y_max = X[:, 1].min() - 1, X[:, 1].max() + 1\n",
    "xx, yy = np.meshgrid(np.arange(x_min, x_max, 0.1),\n",
    "                     np.arange(y_min, y_max, 0.1))"
   ]
  },
  {
   "cell_type": "code",
   "execution_count": null,
   "id": "ccacb7c5",
   "metadata": {},
   "outputs": [],
   "source": [
    "## 要绘制等高线图，找到X轴和Y轴的起点和终点\n",
    "## meshgrid生成网格矩阵\n",
    "xx, yy = np.meshgrid(np.arange(x_min, x_max, 0.1),\n",
    "                     np.arange(y_min, y_max, 0.1))"
   ]
  },
  {
   "cell_type": "code",
   "execution_count": null,
   "id": "2321766b",
   "metadata": {},
   "outputs": [],
   "source": [
    "## ravel将多维数据展平为一维数据\n",
    "## np.c_将一维数据连接成二维数据\n",
    "## DecisionTreeClassifier预测时输入的值是二维数组\n",
    "## Z得到预测值是一维数组\n",
    "Z = clf.predict(np.c_[xx.ravel(), yy.ravel()])\n",
    "len(Z)\n",
    "#xx.shape\n",
    "## Z是X,Y对应的二维数组\n",
    "Z = Z.reshape(xx.shape)\n",
    "Z.shape"
   ]
  },
  {
   "cell_type": "code",
   "execution_count": null,
   "id": "358dc71d",
   "metadata": {},
   "outputs": [],
   "source": [
    "plt.figure()\n",
    "## X 和 Y 是二维数组，表示等高线图的坐标网格。通常使用 np.meshgrid 生成的网格矩阵\n",
    "plt.contourf(xx, yy, Z, alpha=0.4, cmap = plt.cm.RdYlBu)\n",
    "plt.scatter(X[:, 0], X[:, 1], c=y,  cmap = plt.cm.brg)\n",
    "plt.title('Decision Tree')\n",
    "plt.xlabel('Petal.Length')\n",
    "plt.ylabel('Petal.Width')\n",
    "plt.show()"
   ]
  },
  {
   "cell_type": "markdown",
   "id": "1611e4a6",
   "metadata": {},
   "source": [
    "#### 绘制登高线图，X,Y一般用np.meshgrid 生成的网格矩阵，\n",
    "#### np.meshgrid 通过np.arange(x_min, x_max, 0.1）得到xx,yy\n",
    "#### 预测时需要二维数组，将xx,yy先展开再合并成二维数组\n",
    "#### 预测值是一维数组，用reshape得到相应的维度放入等高线图的Z位置"
   ]
  },
  {
   "cell_type": "code",
   "execution_count": null,
   "id": "bd812aae",
   "metadata": {},
   "outputs": [],
   "source": []
  }
 ],
 "metadata": {
  "kernelspec": {
   "display_name": "Python 3 (ipykernel)",
   "language": "python",
   "name": "python3"
  },
  "language_info": {
   "codemirror_mode": {
    "name": "ipython",
    "version": 3
   },
   "file_extension": ".py",
   "mimetype": "text/x-python",
   "name": "python",
   "nbconvert_exporter": "python",
   "pygments_lexer": "ipython3",
   "version": "3.9.12"
  }
 },
 "nbformat": 4,
 "nbformat_minor": 5
}

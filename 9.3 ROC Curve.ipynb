{
 "cells": [
  {
   "cell_type": "markdown",
   "id": "6a57a990",
   "metadata": {},
   "source": [
    "### ROC曲线\n",
    "### 曲线分布在45度线和90度线之间，则代表模型有预测能力\n",
    "## ROC评估模型"
   ]
  },
  {
   "cell_type": "code",
   "execution_count": null,
   "id": "8a1f102c",
   "metadata": {},
   "outputs": [],
   "source": [
    "### ROC曲线只接受ture和false(1,0)\n",
    "from sklearn.datasets import load_iris\n",
    "from sklearn.tree import DecisionTreeClassifier\n",
    "from sklearn import preprocessing\n",
    "\n",
    "iris = load_iris()\n",
    "X = iris.data[50:150,]\n",
    "\n",
    "### 后一百个target标签为1,2，用fit_transform将1,2转成0,1标签\n",
    "le = preprocessing.LabelEncoder()\n",
    "y = le.fit_transform(iris.target[50:150])\n",
    "y"
   ]
  },
  {
   "cell_type": "code",
   "execution_count": null,
   "id": "dd917c4d",
   "metadata": {},
   "outputs": [],
   "source": [
    "from sklearn.model_selection import train_test_split\n",
    "train_X, test_X, train_y, test_y = train_test_split(X, y, test_size = 0.33, random_state = 123)\n",
    "clf = DecisionTreeClassifier()\n",
    "clf.fit(train_X, train_y)"
   ]
  },
  {
   "cell_type": "code",
   "execution_count": null,
   "id": "2698a496",
   "metadata": {},
   "outputs": [],
   "source": [
    "probas_ = clf.fit(train_X, train_y).predict_proba(test_X)\n",
    "probas_[:, 1]\n",
    "# probas_有两列，0列的值是0的话，1列的值就是1，所以得到ROC曲线时，取一列就可以l\n",
    " "
   ]
  },
  {
   "cell_type": "code",
   "execution_count": null,
   "id": "c2c865d6",
   "metadata": {},
   "outputs": [],
   "source": [
    "from sklearn.metrics import roc_curve, auc\n",
    "fpr, tpr, thresholds = roc_curve(test_y, probas_[:, 1])\n",
    "#tpr"
   ]
  },
  {
   "cell_type": "code",
   "execution_count": null,
   "id": "b809f76d",
   "metadata": {},
   "outputs": [],
   "source": [
    "import matplotlib.pyplot as plt\n",
    "## ROC曲线将fpr做X轴，tpr做Y轴\n",
    "plt.plot(fpr, tpr, label='ROC curve')\n",
    "plt.plot([0, 1], [0, 1], 'k--')\n",
    "plt.xlim([0.0, 1.0])\n",
    "plt.ylim([0.0, 1.0])\n",
    "plt.xlabel('False Positive Rate')\n",
    "plt.ylabel('True Positive Rate')\n",
    "plt.title('Receiver operating characteristic example')\n",
    "plt.legend(loc=\"lower right\")\n",
    "plt.show()"
   ]
  },
  {
   "cell_type": "code",
   "execution_count": null,
   "id": "f21c9749",
   "metadata": {},
   "outputs": [],
   "source": [
    "## ROC曲线在45度和90度之间说明模型有预测能力\n",
    "## 再用auc的大小来评判模型的预测能力高低\n",
    "## AUC的值越接近1，它的预测能力更好\n",
    "from sklearn.metrics import auc\n",
    "roc_auc = auc(fpr, tpr)\n",
    "print(\"Area under the ROC curve : %f\" % roc_auc)"
   ]
  },
  {
   "cell_type": "markdown",
   "id": "b1a7ff5d",
   "metadata": {},
   "source": [
    "#### 评估不同模型"
   ]
  },
  {
   "cell_type": "code",
   "execution_count": null,
   "id": "3f4b0e8d",
   "metadata": {},
   "outputs": [],
   "source": [
    "from sklearn.tree import DecisionTreeClassifier\n",
    "from sklearn.svm import SVC\n",
    "from sklearn.linear_model import LogisticRegression\n",
    "from sklearn.ensemble import RandomForestClassifier\n",
    "\n",
    "clf1 = DecisionTreeClassifier()\n",
    "clf1.fit(train_X, train_y)\n",
    "\n",
    "clf2 = SVC(probability=True)\n",
    "clf2.fit(train_X, train_y)\n",
    "\n",
    "clf3 = LogisticRegression()\n",
    "clf3.fit(train_X, train_y)\n",
    "\n",
    "clf4 = RandomForestClassifier()\n",
    "clf4.fit(train_X, train_y)"
   ]
  },
  {
   "cell_type": "code",
   "execution_count": null,
   "id": "926e3b65",
   "metadata": {},
   "outputs": [],
   "source": [
    "import matplotlib.pyplot as plt\n",
    "plt.figure(figsize= [20,10])\n",
    "for clf, title in zip([clf1,clf2,clf3, clf4], ['Decision Tree', 'SVM', 'LogisticRegression', 'RandomForest']):\n",
    "    probas_ = clf.fit(train_X, train_y).predict_proba(test_X)\n",
    "    fpr, tpr, thresholds = roc_curve(test_y, probas_[:, 1])\n",
    "    plt.plot(fpr, tpr, label='%s - AUC:%.2f'%(title, auc(fpr, tpr)) )\n",
    "    \n",
    "plt.plot([0, 1], [0, 1], 'k--')\n",
    "plt.xlim([0.0, 1.0])\n",
    "plt.ylim([0.0, 1.0])\n",
    "plt.xlabel('False Positive Rate', fontsize = 20)\n",
    "plt.ylabel('True Positive Rate', fontsize = 20)\n",
    "plt.title('Receiver operating characteristic example', fontsize = 20)\n",
    "plt.legend(loc=\"lower right\", fontsize = 20)\n",
    "plt.show()"
   ]
  }
 ],
 "metadata": {
  "kernelspec": {
   "display_name": "Python 3 (ipykernel)",
   "language": "python",
   "name": "python3"
  },
  "language_info": {
   "codemirror_mode": {
    "name": "ipython",
    "version": 3
   },
   "file_extension": ".py",
   "mimetype": "text/x-python",
   "name": "python",
   "nbconvert_exporter": "python",
   "pygments_lexer": "ipython3",
   "version": "3.9.12"
  }
 },
 "nbformat": 4,
 "nbformat_minor": 5
}

{
 "cells": [
  {
   "cell_type": "code",
   "execution_count": 1,
   "id": "cf225290",
   "metadata": {
    "collapsed": true
   },
   "outputs": [
    {
     "name": "stdout",
     "output_type": "stream",
     "text": [
      "Looking in indexes: https://pypi.doubanio.com/simple\n",
      "Collecting apyori\n",
      "  Downloading https://pypi.doubanio.com/packages/5e/62/5ffde5c473ea4b033490617ec5caa80d59804875ad3c3c57c0976533a21a/apyori-1.1.2.tar.gz (8.6 kB)\n",
      "  Preparing metadata (setup.py): started\n",
      "  Preparing metadata (setup.py): finished with status 'done'\n",
      "Building wheels for collected packages: apyori\n",
      "  Building wheel for apyori (setup.py): started\n",
      "  Building wheel for apyori (setup.py): finished with status 'done'\n",
      "  Created wheel for apyori: filename=apyori-1.1.2-py3-none-any.whl size=5975 sha256=4427739ea95401127844f5dabaa8e82b4ba6fe6b98b8861d84f33fe2cc0e8de4\n",
      "  Stored in directory: c:\\users\\zhesiwode\\appdata\\local\\pip\\cache\\wheels\\76\\27\\56\\512c1c65ec74c98fea782b2632f07b9d8be16a82611af10af6\n",
      "Successfully built apyori\n",
      "Installing collected packages: apyori\n",
      "Successfully installed apyori-1.1.2\n"
     ]
    }
   ],
   "source": [
    "! pip install apyori"
   ]
  },
  {
   "cell_type": "code",
   "execution_count": 2,
   "id": "c141b77f",
   "metadata": {
    "collapsed": true
   },
   "outputs": [
    {
     "data": {
      "text/html": [
       "<div>\n",
       "<style scoped>\n",
       "    .dataframe tbody tr th:only-of-type {\n",
       "        vertical-align: middle;\n",
       "    }\n",
       "\n",
       "    .dataframe tbody tr th {\n",
       "        vertical-align: top;\n",
       "    }\n",
       "\n",
       "    .dataframe thead th {\n",
       "        text-align: right;\n",
       "    }\n",
       "</style>\n",
       "<table border=\"1\" class=\"dataframe\">\n",
       "  <thead>\n",
       "    <tr style=\"text-align: right;\">\n",
       "      <th></th>\n",
       "      <th>movieId</th>\n",
       "      <th>title</th>\n",
       "      <th>genres</th>\n",
       "    </tr>\n",
       "  </thead>\n",
       "  <tbody>\n",
       "    <tr>\n",
       "      <th>0</th>\n",
       "      <td>1</td>\n",
       "      <td>Toy Story (1995)</td>\n",
       "      <td>Adventure|Animation|Children|Comedy|Fantasy</td>\n",
       "    </tr>\n",
       "    <tr>\n",
       "      <th>1</th>\n",
       "      <td>2</td>\n",
       "      <td>Jumanji (1995)</td>\n",
       "      <td>Adventure|Children|Fantasy</td>\n",
       "    </tr>\n",
       "    <tr>\n",
       "      <th>2</th>\n",
       "      <td>3</td>\n",
       "      <td>Grumpier Old Men (1995)</td>\n",
       "      <td>Comedy|Romance</td>\n",
       "    </tr>\n",
       "    <tr>\n",
       "      <th>3</th>\n",
       "      <td>4</td>\n",
       "      <td>Waiting to Exhale (1995)</td>\n",
       "      <td>Comedy|Drama|Romance</td>\n",
       "    </tr>\n",
       "    <tr>\n",
       "      <th>4</th>\n",
       "      <td>5</td>\n",
       "      <td>Father of the Bride Part II (1995)</td>\n",
       "      <td>Comedy</td>\n",
       "    </tr>\n",
       "  </tbody>\n",
       "</table>\n",
       "</div>"
      ],
      "text/plain": [
       "   movieId                               title  \\\n",
       "0        1                    Toy Story (1995)   \n",
       "1        2                      Jumanji (1995)   \n",
       "2        3             Grumpier Old Men (1995)   \n",
       "3        4            Waiting to Exhale (1995)   \n",
       "4        5  Father of the Bride Part II (1995)   \n",
       "\n",
       "                                        genres  \n",
       "0  Adventure|Animation|Children|Comedy|Fantasy  \n",
       "1                   Adventure|Children|Fantasy  \n",
       "2                               Comedy|Romance  \n",
       "3                         Comedy|Drama|Romance  \n",
       "4                                       Comedy  "
      ]
     },
     "execution_count": 2,
     "metadata": {},
     "output_type": "execute_result"
    }
   ],
   "source": [
    "import pandas\n",
    "movie = pandas.read_csv('Data/movies.csv')\n",
    "movie.head()"
   ]
  },
  {
   "cell_type": "code",
   "execution_count": 7,
   "id": "096b25b2",
   "metadata": {},
   "outputs": [],
   "source": [
    "movie_dic = {}\n",
    "for rec in movie.iterrows():\n",
    "    movie_dic[rec[1].movieId]  = rec[1].title"
   ]
  },
  {
   "cell_type": "code",
   "execution_count": 9,
   "id": "ea66c8de",
   "metadata": {},
   "outputs": [
    {
     "data": {
      "text/plain": [
       "'Jumanji (1995)'"
      ]
     },
     "execution_count": 9,
     "metadata": {},
     "output_type": "execute_result"
    }
   ],
   "source": [
    "movie_dic.get(2)"
   ]
  },
  {
   "cell_type": "code",
   "execution_count": 10,
   "id": "7dd05636",
   "metadata": {},
   "outputs": [
    {
     "name": "stdout",
     "output_type": "stream",
     "text": [
      "<class 'pandas.core.frame.DataFrame'>\n",
      "RangeIndex: 100004 entries, 0 to 100003\n",
      "Data columns (total 4 columns):\n",
      " #   Column     Non-Null Count   Dtype  \n",
      "---  ------     --------------   -----  \n",
      " 0   userId     100004 non-null  int64  \n",
      " 1   movieId    100004 non-null  int64  \n",
      " 2   rating     100004 non-null  float64\n",
      " 3   timestamp  100004 non-null  int64  \n",
      "dtypes: float64(1), int64(3)\n",
      "memory usage: 3.1 MB\n"
     ]
    }
   ],
   "source": [
    "import pandas\n",
    "import datetime\n",
    "\n",
    "df = pandas.read_csv('Data/ratings.csv')\n",
    "df.info()\n",
    "#df = df[df['timestamp'] >= 1325376000]"
   ]
  },
  {
   "cell_type": "code",
   "execution_count": 11,
   "id": "c837d557",
   "metadata": {},
   "outputs": [],
   "source": [
    "df = df[df['timestamp'] >= 1325376000]"
   ]
  },
  {
   "cell_type": "code",
   "execution_count": 12,
   "id": "7df094e1",
   "metadata": {},
   "outputs": [
    {
     "data": {
      "text/html": [
       "<div>\n",
       "<style scoped>\n",
       "    .dataframe tbody tr th:only-of-type {\n",
       "        vertical-align: middle;\n",
       "    }\n",
       "\n",
       "    .dataframe tbody tr th {\n",
       "        vertical-align: top;\n",
       "    }\n",
       "\n",
       "    .dataframe thead th {\n",
       "        text-align: right;\n",
       "    }\n",
       "</style>\n",
       "<table border=\"1\" class=\"dataframe\">\n",
       "  <thead>\n",
       "    <tr style=\"text-align: right;\">\n",
       "      <th></th>\n",
       "      <th>userId</th>\n",
       "      <th>movieId</th>\n",
       "      <th>rating</th>\n",
       "      <th>timestamp</th>\n",
       "    </tr>\n",
       "  </thead>\n",
       "  <tbody>\n",
       "    <tr>\n",
       "      <th>790</th>\n",
       "      <td>11</td>\n",
       "      <td>50</td>\n",
       "      <td>5.0</td>\n",
       "      <td>1391658537</td>\n",
       "    </tr>\n",
       "    <tr>\n",
       "      <th>791</th>\n",
       "      <td>11</td>\n",
       "      <td>70</td>\n",
       "      <td>1.0</td>\n",
       "      <td>1391656827</td>\n",
       "    </tr>\n",
       "    <tr>\n",
       "      <th>792</th>\n",
       "      <td>11</td>\n",
       "      <td>126</td>\n",
       "      <td>4.0</td>\n",
       "      <td>1391657561</td>\n",
       "    </tr>\n",
       "    <tr>\n",
       "      <th>793</th>\n",
       "      <td>11</td>\n",
       "      <td>169</td>\n",
       "      <td>3.0</td>\n",
       "      <td>1391657297</td>\n",
       "    </tr>\n",
       "    <tr>\n",
       "      <th>794</th>\n",
       "      <td>11</td>\n",
       "      <td>296</td>\n",
       "      <td>5.0</td>\n",
       "      <td>1391658423</td>\n",
       "    </tr>\n",
       "  </tbody>\n",
       "</table>\n",
       "</div>"
      ],
      "text/plain": [
       "     userId  movieId  rating   timestamp\n",
       "790      11       50     5.0  1391658537\n",
       "791      11       70     1.0  1391656827\n",
       "792      11      126     4.0  1391657561\n",
       "793      11      169     3.0  1391657297\n",
       "794      11      296     5.0  1391658423"
      ]
     },
     "execution_count": 12,
     "metadata": {},
     "output_type": "execute_result"
    }
   ],
   "source": [
    "df.head()"
   ]
  },
  {
   "cell_type": "code",
   "execution_count": 13,
   "id": "aeb92bda",
   "metadata": {},
   "outputs": [],
   "source": [
    "from apyori import apriori\n",
    "transactions = [ele for ele in df.groupby('userId')['movieId'].apply(list)]\n",
    "rules = apriori(transactions, min_support = 0.2, min_confidence = 0.5, min_lift = 3, min_length = 2)\n",
    "\n",
    "results = list(rules)"
   ]
  },
  {
   "cell_type": "code",
   "execution_count": 27,
   "id": "e6fa5fa0",
   "metadata": {
    "collapsed": true
   },
   "outputs": [
    {
     "name": "stdout",
     "output_type": "stream",
     "text": [
      "Kill Bill: Vol. 1 (2003) => Kill Bill: Vol. 2 (2004)\n",
      "\n",
      "Lord of the Rings: The Two Towers, The (2002);Star Wars: Episode IV - A New Hope (1977) => Lord of the Rings: The Return of the King, The (2003);Star Wars: Episode VI - Return of the Jedi (1983)\n",
      "\n",
      "Matrix, The (1999);Star Wars: Episode V - The Empire Strikes Back (1980) => Star Wars: Episode VI - Return of the Jedi (1983);Raiders of the Lost Ark (Indiana Jones and the Raiders of the Lost Ark) (1981)\n",
      "\n",
      "Lord of the Rings: The Two Towers, The (2002);Star Wars: Episode V - The Empire Strikes Back (1980) => Lord of the Rings: The Return of the King, The (2003);Star Wars: Episode VI - Return of the Jedi (1983)\n",
      "\n",
      "Batman Begins (2005);Matrix, The (1999) => Lord of the Rings: The Two Towers, The (2002);Inception (2010)\n",
      "\n",
      "Lord of the Rings: The Fellowship of the Ring, The (2001);Batman Begins (2005) => Lord of the Rings: The Two Towers, The (2002);Inception (2010)\n",
      "\n",
      "Lord of the Rings: The Fellowship of the Ring, The (2001);Dark Knight, The (2008) => Lord of the Rings: The Return of the King, The (2003);Batman Begins (2005)\n",
      "\n",
      "Star Wars: Episode VI - Return of the Jedi (1983) => Star Wars: Episode V - The Empire Strikes Back (1980);Matrix, The (1999);Star Wars: Episode IV - A New Hope (1977);Raiders of the Lost Ark (Indiana Jones and the Raiders of the Lost Ark) (1981)\n",
      "\n",
      "Star Wars: Episode VI - Return of the Jedi (1983) => Lord of the Rings: The Two Towers, The (2002);Star Wars: Episode V - The Empire Strikes Back (1980);Matrix, The (1999);Star Wars: Episode IV - A New Hope (1977)\n",
      "\n",
      "Lord of the Rings: The Two Towers, The (2002);Star Wars: Episode IV - A New Hope (1977) => Lord of the Rings: The Return of the King, The (2003);Star Wars: Episode VI - Return of the Jedi (1983);Star Wars: Episode V - The Empire Strikes Back (1980)\n",
      "\n",
      "Lord of the Rings: The Two Towers, The (2002);Star Wars: Episode IV - A New Hope (1977) => Lord of the Rings: The Return of the King, The (2003);Matrix, The (1999);Star Wars: Episode V - The Empire Strikes Back (1980)\n",
      "\n",
      "Lord of the Rings: The Two Towers, The (2002);Star Wars: Episode IV - A New Hope (1977) => Lord of the Rings: The Fellowship of the Ring, The (2001);Star Wars: Episode V - The Empire Strikes Back (1980);Lord of the Rings: The Return of the King, The (2003)\n",
      "\n",
      "Lord of the Rings: The Two Towers, The (2002);Star Wars: Episode IV - A New Hope (1977) => Lord of the Rings: The Fellowship of the Ring, The (2001);Star Wars: Episode V - The Empire Strikes Back (1980);Dark Knight, The (2008)\n",
      "\n",
      "Lord of the Rings: The Return of the King, The (2003);Star Wars: Episode IV - A New Hope (1977) => Lord of the Rings: The Fellowship of the Ring, The (2001);Star Wars: Episode V - The Empire Strikes Back (1980);Dark Knight, The (2008)\n",
      "\n",
      "Lord of the Rings: The Two Towers, The (2002);Star Wars: Episode IV - A New Hope (1977) => Lord of the Rings: The Return of the King, The (2003);Star Wars: Episode V - The Empire Strikes Back (1980);Dark Knight, The (2008)\n",
      "\n",
      "Lord of the Rings: The Two Towers, The (2002);Batman Begins (2005) => Lord of the Rings: The Fellowship of the Ring, The (2001);Matrix, The (1999);Dark Knight, The (2008)\n",
      "\n",
      "Lord of the Rings: The Fellowship of the Ring, The (2001);Batman Begins (2005) => Lord of the Rings: The Return of the King, The (2003);Matrix, The (1999);Dark Knight, The (2008)\n",
      "\n",
      "Batman Begins (2005);Matrix, The (1999) => Lord of the Rings: The Two Towers, The (2002);Inception (2010);Dark Knight, The (2008)\n",
      "\n",
      "Lord of the Rings: The Fellowship of the Ring, The (2001);Batman Begins (2005) => Lord of the Rings: The Two Towers, The (2002);Lord of the Rings: The Return of the King, The (2003);Dark Knight, The (2008)\n",
      "\n",
      "Lord of the Rings: The Fellowship of the Ring, The (2001);Batman Begins (2005) => Lord of the Rings: The Two Towers, The (2002);Inception (2010);Dark Knight, The (2008)\n",
      "\n",
      "Lord of the Rings: The Fellowship of the Ring, The (2001);Batman Begins (2005) => Lord of the Rings: The Return of the King, The (2003);Inception (2010);Dark Knight, The (2008)\n",
      "\n",
      "Lord of the Rings: The Two Towers, The (2002);Star Wars: Episode IV - A New Hope (1977) => Lord of the Rings: The Fellowship of the Ring, The (2001);Matrix, The (1999);Star Wars: Episode V - The Empire Strikes Back (1980);Lord of the Rings: The Return of the King, The (2003)\n",
      "\n",
      "Lord of the Rings: The Two Towers, The (2002);Star Wars: Episode IV - A New Hope (1977) => Lord of the Rings: The Fellowship of the Ring, The (2001);Star Wars: Episode V - The Empire Strikes Back (1980);Lord of the Rings: The Return of the King, The (2003);Dark Knight, The (2008)\n",
      "\n",
      "Lord of the Rings: The Return of the King, The (2003);Matrix, The (1999);Dark Knight, The (2008) => Lord of the Rings: The Two Towers, The (2002);Lord of the Rings: The Fellowship of the Ring, The (2001);Inception (2010)\n",
      "\n"
     ]
    }
   ],
   "source": [
    "### 取出有关联的几个数据\n",
    "for rec in results:\n",
    "    left_hands = rec.ordered_statistics[0].items_base\n",
    "    right_hands = rec.ordered_statistics[0].items_add\n",
    "#     print(left_hands)\n",
    "#     print([item for item in left_hands])\n",
    "    l = ';'.join([movie_dic.get(item) for item in left_hands])\n",
    "    r = ';'.join([movie_dic.get(item) for item in right_hands])\n",
    "    print('{} => {}\\n'.format(l,r))\n",
    "        \n",
    "    #print(';'.join([movie_dic.get(item) for item in rec.items]))"
   ]
  },
  {
   "cell_type": "code",
   "execution_count": null,
   "id": "999cceac",
   "metadata": {},
   "outputs": [],
   "source": [
    "### apriori的输入值必须是数组\n",
    "### 每一行代表一个事物（可能是一个人），列代表它所做过的事（可以通过groupby得到）\n",
    "### 判断某人在做了这件事后，做另一件事的几率是怎么样的"
   ]
  }
 ],
 "metadata": {
  "kernelspec": {
   "display_name": "Python 3 (ipykernel)",
   "language": "python",
   "name": "python3"
  },
  "language_info": {
   "codemirror_mode": {
    "name": "ipython",
    "version": 3
   },
   "file_extension": ".py",
   "mimetype": "text/x-python",
   "name": "python",
   "nbconvert_exporter": "python",
   "pygments_lexer": "ipython3",
   "version": "3.9.12"
  }
 },
 "nbformat": 4,
 "nbformat_minor": 5
}

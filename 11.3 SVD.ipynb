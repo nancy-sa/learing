{
 "cells": [
  {
   "cell_type": "code",
   "execution_count": null,
   "id": "49928e4d",
   "metadata": {},
   "outputs": [],
   "source": [
    "## SVD将一个大矩阵拆成几个小矩阵\n",
    "## 之后再将几个小矩阵还原成类似于大矩阵的矩阵\n",
    "## 这样在存储，处理过程中可以节省不小的空间"
   ]
  },
  {
   "cell_type": "code",
   "execution_count": null,
   "id": "288808cc",
   "metadata": {},
   "outputs": [],
   "source": [
    "import numpy as np\n",
    "from sklearn.datasets import load_iris\n",
    "\n",
    "iris = load_iris()\n",
    "X = iris.data"
   ]
  },
  {
   "cell_type": "code",
   "execution_count": null,
   "id": "a03b42f5",
   "metadata": {},
   "outputs": [],
   "source": [
    "from scipy.linalg import svd\n",
    "# U 是左奇异向量矩阵，S 是奇异值矩阵，V 是右奇异向量矩阵\n",
    "# full_matrices是决定是否返回完整矩阵，不想要很多数据，就赋值False\n",
    "U, S, V = svd(X, full_matrices=False)"
   ]
  },
  {
   "cell_type": "code",
   "execution_count": null,
   "id": "68b80728",
   "metadata": {},
   "outputs": [],
   "source": [
    "# np.diag(S)生成矩阵，S为对角线数据\n",
    "## 还原矩阵\n",
    "A_new = np.dot(U.dot(np.diag(S)), V)"
   ]
  },
  {
   "cell_type": "code",
   "execution_count": null,
   "id": "f3727214",
   "metadata": {},
   "outputs": [],
   "source": [
    "## 用SVD"
   ]
  },
  {
   "cell_type": "code",
   "execution_count": null,
   "id": "d0207065",
   "metadata": {},
   "outputs": [],
   "source": [
    "from sklearn.decomposition import TruncatedSVD\n",
    "#?TruncatedSVD\n",
    "\n",
    "# TruncatedSVD只保留两个主成分，丢弃其他成分\n",
    "svd = TruncatedSVD(2)\n",
    "X = svd.fit_transform(iris.data)"
   ]
  },
  {
   "cell_type": "code",
   "execution_count": null,
   "id": "4341d983",
   "metadata": {},
   "outputs": [],
   "source": [
    "import matplotlib.pyplot as plt\n",
    "\n",
    "plt.scatter(X[:, 0], X[:, 1], c=iris.target)\n",
    "plt.xlabel('SVD1')\n",
    "plt.ylabel('SVD2')\n",
    "plt.title('SVD')\n",
    "plt.show()"
   ]
  },
  {
   "cell_type": "code",
   "execution_count": null,
   "id": "b280f8ec",
   "metadata": {},
   "outputs": [],
   "source": []
  }
 ],
 "metadata": {
  "kernelspec": {
   "display_name": "Python 3 (ipykernel)",
   "language": "python",
   "name": "python3"
  },
  "language_info": {
   "codemirror_mode": {
    "name": "ipython",
    "version": 3
   },
   "file_extension": ".py",
   "mimetype": "text/x-python",
   "name": "python",
   "nbconvert_exporter": "python",
   "pygments_lexer": "ipython3",
   "version": "3.9.12"
  }
 },
 "nbformat": 4,
 "nbformat_minor": 5
}

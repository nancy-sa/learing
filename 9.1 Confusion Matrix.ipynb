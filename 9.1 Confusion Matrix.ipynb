{
 "cells": [
  {
   "cell_type": "code",
   "execution_count": null,
   "id": "c7024677",
   "metadata": {},
   "outputs": [],
   "source": [
    "from sklearn.datasets import load_iris\n",
    "from sklearn.linear_model import LogisticRegression\n",
    "iris = load_iris()\n",
    "clf = LogisticRegression()\n",
    "clf.fit(iris.data, iris.target)"
   ]
  },
  {
   "cell_type": "code",
   "execution_count": null,
   "id": "58534390",
   "metadata": {},
   "outputs": [],
   "source": [
    "predicted = clf.predict(iris.data)\n",
    "predicted"
   ]
  },
  {
   "cell_type": "code",
   "execution_count": null,
   "id": "a40ebf9a",
   "metadata": {},
   "outputs": [],
   "source": [
    "# 计算准确率（方法一）\n",
    "sum(iris.target == predicted) / len(iris.target)"
   ]
  },
  {
   "cell_type": "code",
   "execution_count": null,
   "id": "f207ee71",
   "metadata": {},
   "outputs": [],
   "source": [
    "# 计算准确率（方法二）\n",
    "from sklearn.metrics import accuracy_score\n",
    "accuracy_score(iris.target, predicted)"
   ]
  },
  {
   "cell_type": "code",
   "execution_count": null,
   "id": "e1678b1c",
   "metadata": {},
   "outputs": [],
   "source": [
    "# 混淆矩阵可以帮助我们了解模型在不同类别上的预测表现\n",
    "# 观察混淆矩阵，可以分析哪些类别容易被模型混淆，或者模型在哪些类别上表现良好。\n",
    "from sklearn.metrics import confusion_matrix\n",
    "m = confusion_matrix(iris.target, predicted)\n",
    "m"
   ]
  },
  {
   "cell_type": "code",
   "execution_count": null,
   "id": "fd6afbc1",
   "metadata": {},
   "outputs": [],
   "source": [
    "%pylab inline\n",
    "import seaborn\n",
    "# 通过热力图观察混淆矩阵\n",
    "# 主对角线（左上到右下）上的方块表示模型的正确预测。这些方块的颜色越深，表示预测正确的样本数量越多。\n",
    "# 非主对角线上的方块表示模型的错误预测。这些方块的颜色越深，表示预测错误的样本数量越多\n",
    "seaborn.heatmap(m)"
   ]
  },
  {
   "cell_type": "code",
   "execution_count": null,
   "id": "9cd3c759",
   "metadata": {},
   "outputs": [],
   "source": [
    "# 查看模型的准确率、召回率、F1 分数\n",
    "# precision（精确率）表示被正确预测的正样本占所有预测为正样本的比例。\n",
    "# recall（召回率）表示被正确预测的正样本占所有真实为正样本的比例。\n",
    "# f1-score（F1 分数）综合考虑了精确率和召回率，是一个综合评估指标。\n",
    "# 较高的准确率、召回率和F1分数表示模型在该类别上的表现较好\n",
    "from sklearn.metrics import classification_report\n",
    "print(classification_report(iris.target, predicted))"
   ]
  }
 ],
 "metadata": {
  "kernelspec": {
   "display_name": "Python 3 (ipykernel)",
   "language": "python",
   "name": "python3"
  },
  "language_info": {
   "codemirror_mode": {
    "name": "ipython",
    "version": 3
   },
   "file_extension": ".py",
   "mimetype": "text/x-python",
   "name": "python",
   "nbconvert_exporter": "python",
   "pygments_lexer": "ipython3",
   "version": "3.9.12"
  }
 },
 "nbformat": 4,
 "nbformat_minor": 5
}

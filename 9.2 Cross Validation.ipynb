{
 "cells": [
  {
   "cell_type": "markdown",
   "id": "1cfc7a6f",
   "metadata": {},
   "source": [
    "### 将同一份数据集用于训练和测试的话，就会产生过度适配的问题\n",
    "### 它记住了预测的内容而无法预测这个数据集以外的数据\n",
    "### 所以训练测试集和测试数据集要分开"
   ]
  },
  {
   "cell_type": "markdown",
   "id": "dfb240f0",
   "metadata": {},
   "source": [
    "#### 交叉验证---将数据集切除n份，进行n次，每一次将1份作为测试集，另外的n-i份作为训练集"
   ]
  },
  {
   "cell_type": "markdown",
   "id": "08f77083",
   "metadata": {},
   "source": [
    "#### 留一验证，一份数据测试，其他数据训练"
   ]
  },
  {
   "cell_type": "code",
   "execution_count": null,
   "id": "0bbf1d08",
   "metadata": {},
   "outputs": [],
   "source": [
    "from sklearn.datasets import load_iris\n",
    "from sklearn.tree import DecisionTreeClassifier\n",
    "iris = load_iris()\n",
    "\n",
    "X = iris.data\n",
    "y = iris.target"
   ]
  },
  {
   "cell_type": "markdown",
   "id": "75a85ceb",
   "metadata": {},
   "source": [
    "### train_test_split随机划分数据集"
   ]
  },
  {
   "cell_type": "code",
   "execution_count": null,
   "id": "67d12813",
   "metadata": {},
   "outputs": [],
   "source": [
    "from sklearn.model_selection import train_test_split\n",
    "train_X, test_X, train_y, test_y = train_test_split(X, y, test_size = 0.33, random_state = 123)\n",
    "clf = DecisionTreeClassifier()\n",
    "clf.fit(train_X, train_y)"
   ]
  },
  {
   "cell_type": "code",
   "execution_count": null,
   "id": "771dbf34",
   "metadata": {},
   "outputs": [],
   "source": [
    "from sklearn.metrics import accuracy_score\n",
    "predicted = clf.predict(test_X)\n",
    "print(accuracy_score(test_y, predicted))\n",
    "\n",
    "predicted2 = clf.predict(train_X)\n",
    "print(accuracy_score(train_y, predicted2))\n",
    "\n",
    "\n",
    "from sklearn.metrics import confusion_matrix\n",
    "m = confusion_matrix(test_y, predicted)\n",
    "print(m)"
   ]
  },
  {
   "cell_type": "markdown",
   "id": "aeb24572",
   "metadata": {},
   "source": [
    "### KFold---交叉验证的方法之一"
   ]
  },
  {
   "cell_type": "code",
   "execution_count": null,
   "id": "5fa8476c",
   "metadata": {},
   "outputs": [],
   "source": [
    "from sklearn.model_selection import KFold\n",
    "acc = []\n",
    "kf = KFold(n_splits=10)\n",
    "for train, test in kf.split(X):\n",
    "    #print(train, test)\n",
    "    train_X, test_X, train_y, test_y = X[train],X[test], y[train], y[test]\n",
    "    clf = DecisionTreeClassifier()\n",
    "    clf.fit(train_X, train_y)\n",
    "    predicted = clf.predict(test_X)\n",
    "    acc.append(accuracy_score(test_y, predicted))\n",
    "### 所有准确率算术平均\n",
    "sum(acc) / len(acc)"
   ]
  },
  {
   "cell_type": "code",
   "execution_count": null,
   "id": "862ba14b",
   "metadata": {},
   "outputs": [],
   "source": [
    "from sklearn.model_selection import cross_val_score\n",
    "acc = cross_val_score(clf, X=iris.data, y= iris.target, cv= 10)\n",
    "acc"
   ]
  },
  {
   "cell_type": "markdown",
   "id": "6c072c8c",
   "metadata": {},
   "source": [
    "### 留一验证"
   ]
  },
  {
   "cell_type": "code",
   "execution_count": null,
   "id": "ad2bcdfa",
   "metadata": {},
   "outputs": [],
   "source": [
    "from sklearn.model_selection import LeaveOneOut\n",
    "\n",
    "res = []\n",
    "loo = LeaveOneOut()\n",
    "for train, test in loo.split(X):\n",
    "    train_X, test_X, train_y, test_y = X[train],X[test], y[train], y[test]\n",
    "    clf = DecisionTreeClassifier()\n",
    "    clf.fit(train_X, train_y)\n",
    "    predicted = clf.predict(test_X)\n",
    "    res.extend((predicted == test_y).tolist())\n",
    "#res\n",
    "sum(res) / 150"
   ]
  },
  {
   "cell_type": "markdown",
   "id": "cbccf2e0",
   "metadata": {},
   "source": [
    "### 多了一步\n",
    "### 选择不同方法，将数据集分成测试和训练集，然后建立训练模型"
   ]
  },
  {
   "cell_type": "code",
   "execution_count": null,
   "id": "dff7435f",
   "metadata": {},
   "outputs": [],
   "source": []
  }
 ],
 "metadata": {
  "kernelspec": {
   "display_name": "Python 3 (ipykernel)",
   "language": "python",
   "name": "python3"
  },
  "language_info": {
   "codemirror_mode": {
    "name": "ipython",
    "version": 3
   },
   "file_extension": ".py",
   "mimetype": "text/x-python",
   "name": "python",
   "nbconvert_exporter": "python",
   "pygments_lexer": "ipython3",
   "version": "3.9.12"
  }
 },
 "nbformat": 4,
 "nbformat_minor": 5
}

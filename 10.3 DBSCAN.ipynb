{
 "cells": [
  {
   "cell_type": "code",
   "execution_count": 4,
   "id": "5d2e9c74",
   "metadata": {},
   "outputs": [],
   "source": [
    "import numpy as np\n",
    "from PIL import Image\n",
    "img = Image.open('Data/handwriting.png')\n",
    "# img\n",
    "#imgarr =  np.array(img)\n",
    "#imgarr.shape\n",
    "#imgarr\n",
    "\n",
    "#### img是彩色图像，三通道也就是三维数据\n",
    "#### convert(\"L\")转换成灰度图像，二通道也就是二维数据\n",
    "img2 = img.rotate(-90).convert(\"L\")\n",
    "\n",
    "### 转成numpy数组，更方便对图像进行分析\n",
    "imgarr = np.array(img2) "
   ]
  },
  {
   "cell_type": "code",
   "execution_count": null,
   "id": "1a1ca330",
   "metadata": {},
   "outputs": [],
   "source": [
    "## 分群方法接受0,1"
   ]
  },
  {
   "cell_type": "code",
   "execution_count": null,
   "id": "b6b084e1",
   "metadata": {},
   "outputs": [],
   "source": [
    "from sklearn.preprocessing import binarize\n",
    "# 对图像进行二值化处理，0为阈值，小于0的设为0，大于0的设为1\n",
    "imagedata = np.where(1- binarize(imgarr, 0) == 1)\n",
    "#imagedata = np.where(1- binarize(imgarr, 0) == 1)"
   ]
  },
  {
   "cell_type": "code",
   "execution_count": null,
   "id": "87bc2eb2",
   "metadata": {},
   "outputs": [],
   "source": [
    "import matplotlib.pyplot as plt\n",
    "plt.scatter(imagedata[0], imagedata[1], s = 100, c = 'red', label = 'Cluster 1')\n",
    "plt.show()"
   ]
  },
  {
   "cell_type": "code",
   "execution_count": null,
   "id": "7dead08d",
   "metadata": {},
   "outputs": [],
   "source": [
    "# 形成二维数组，用分群方法时，它们接受二维数组\n",
    "X =np.column_stack([imagedata[0],imagedata[1]])\n",
    "#X"
   ]
  },
  {
   "cell_type": "code",
   "execution_count": null,
   "id": "6e43837b",
   "metadata": {},
   "outputs": [],
   "source": [
    "## 使用kmeans进行分群"
   ]
  },
  {
   "cell_type": "code",
   "execution_count": null,
   "id": "84543f0d",
   "metadata": {},
   "outputs": [],
   "source": [
    "from sklearn.cluster import KMeans\n",
    "\n",
    "kmeans = KMeans(n_clusters = 2, init = 'k-means++', random_state = 42)\n",
    "y_kmeans = kmeans.fit_predict(X)"
   ]
  },
  {
   "cell_type": "code",
   "execution_count": null,
   "id": "d9903ef9",
   "metadata": {},
   "outputs": [],
   "source": [
    "kmeans.cluster_centers_"
   ]
  },
  {
   "cell_type": "code",
   "execution_count": null,
   "id": "7b2a0426",
   "metadata": {},
   "outputs": [],
   "source": [
    "plt.scatter(X[y_kmeans == 0, 0], X[y_kmeans == 0, 1], s = 100, c = 'red', label = 'Cluster 1')\n",
    "plt.scatter(X[y_kmeans == 1, 0], X[y_kmeans == 1, 1], s = 100, c = 'blue', label = 'Cluster 2')\n",
    "plt.scatter(kmeans.cluster_centers_[:,0], kmeans.cluster_centers_[:,1], s = 100, c = 'yellow', label = 'Centroid')"
   ]
  },
  {
   "cell_type": "code",
   "execution_count": null,
   "id": "9d559f03",
   "metadata": {},
   "outputs": [],
   "source": [
    "plt.show()"
   ]
  },
  {
   "cell_type": "code",
   "execution_count": null,
   "id": "0dd43df6",
   "metadata": {},
   "outputs": [],
   "source": [
    "from sklearn.cluster import DBSCAN\n",
    "#?DBSCAN\n",
    "\n",
    "# 设置半径eps，半径范围内至少有多少点（min_samples）可以看出一个群\n",
    "dbs = DBSCAN(eps=1, min_samples=3)\n",
    "y_dbs = dbs.fit_predict(X)"
   ]
  },
  {
   "cell_type": "code",
   "execution_count": null,
   "id": "6558abf9",
   "metadata": {},
   "outputs": [],
   "source": [
    "plt.scatter(X[y_dbs == 0, 0], X[y_dbs == 0, 1], s = 100, c = 'red', label = 'Cluster 1')\n",
    "plt.scatter(X[y_dbs == 1, 0], X[y_dbs == 1, 1], s = 100, c = 'blue', label = 'Cluster 2')"
   ]
  },
  {
   "cell_type": "code",
   "execution_count": null,
   "id": "27b380b9",
   "metadata": {},
   "outputs": [],
   "source": [
    "plt.show()"
   ]
  },
  {
   "cell_type": "code",
   "execution_count": null,
   "id": "37fd236f",
   "metadata": {},
   "outputs": [],
   "source": []
  }
 ],
 "metadata": {
  "kernelspec": {
   "display_name": "Python 3 (ipykernel)",
   "language": "python",
   "name": "python3"
  },
  "language_info": {
   "codemirror_mode": {
    "name": "ipython",
    "version": 3
   },
   "file_extension": ".py",
   "mimetype": "text/x-python",
   "name": "python",
   "nbconvert_exporter": "python",
   "pygments_lexer": "ipython3",
   "version": "3.9.12"
  }
 },
 "nbformat": 4,
 "nbformat_minor": 5
}

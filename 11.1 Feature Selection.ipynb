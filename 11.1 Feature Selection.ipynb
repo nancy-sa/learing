{
 "cells": [
  {
   "cell_type": "code",
   "execution_count": null,
   "id": "cb89e1f8",
   "metadata": {},
   "outputs": [],
   "source": [
    "### 降低维度（扔掉一些维度）\n",
    "#### 维度太多，如果维度之间有关联可能影响分析的结果"
   ]
  },
  {
   "cell_type": "code",
   "execution_count": 1,
   "id": "c579e64c",
   "metadata": {
    "collapsed": true
   },
   "outputs": [
    {
     "ename": "ModuleNotFoundError",
     "evalue": "No module named 'sklearn'",
     "output_type": "error",
     "traceback": [
      "\u001b[1;31m---------------------------------------------------------------------------\u001b[0m",
      "\u001b[1;31mModuleNotFoundError\u001b[0m                       Traceback (most recent call last)",
      "Cell \u001b[1;32mIn[1], line 2\u001b[0m\n\u001b[0;32m      1\u001b[0m \u001b[38;5;28;01mimport\u001b[39;00m \u001b[38;5;21;01mpandas\u001b[39;00m\n\u001b[1;32m----> 2\u001b[0m \u001b[38;5;28;01mfrom\u001b[39;00m \u001b[38;5;21;01msklearn\u001b[39;00m\u001b[38;5;21;01m.\u001b[39;00m\u001b[38;5;21;01mfeature_selection\u001b[39;00m \u001b[38;5;28;01mimport\u001b[39;00m VarianceThreshold\n\u001b[0;32m      3\u001b[0m df \u001b[38;5;241m=\u001b[39m pandas\u001b[38;5;241m.\u001b[39mread_csv(\u001b[38;5;124m'\u001b[39m\u001b[38;5;124mData/customer_behavior.csv\u001b[39m\u001b[38;5;124m'\u001b[39m)\n\u001b[0;32m      4\u001b[0m df\n",
      "\u001b[1;31mModuleNotFoundError\u001b[0m: No module named 'sklearn'"
     ]
    }
   ],
   "source": [
    "import pandas\n",
    "from sklearn.feature_selection import VarianceThreshold\n",
    "df = pandas.read_csv('Data/customer_behavior.csv')\n",
    "df"
   ]
  },
  {
   "cell_type": "code",
   "execution_count": null,
   "id": "0408db86",
   "metadata": {},
   "outputs": [],
   "source": [
    "X = df[['bachelor','gender', 'age', 'salary']]\n",
    "## 剔除低于阈值的特征，减少特征\n",
    "sel = VarianceThreshold()\n",
    "X_val = sel.fit_transform(X)\n",
    "#X_val\n",
    "\n",
    "# sel.get_support()得到布尔值\n",
    "names = df.columns[sel.get_support()]\n",
    "names"
   ]
  },
  {
   "cell_type": "code",
   "execution_count": null,
   "id": "7ef2ae02",
   "metadata": {},
   "outputs": [],
   "source": [
    "from sklearn.feature_selection import SelectKBest\n",
    "from sklearn.feature_selection import chi2\n",
    "X = df[['bachelor','gender', 'age', 'salary']]\n",
    "y = df['purchased'].values\n",
    "## 选择最相关的特征（2个）\n",
    "clf = SelectKBest(chi2, k=2)\n",
    "clf.fit(X,y)\n",
    "print(clf.scores_)"
   ]
  },
  {
   "cell_type": "code",
   "execution_count": null,
   "id": "6408a348",
   "metadata": {},
   "outputs": [],
   "source": [
    "X_new = clf.fit_transform(X,y)\n",
    "print(X_new)"
   ]
  },
  {
   "cell_type": "code",
   "execution_count": null,
   "id": "4fc0a762",
   "metadata": {},
   "outputs": [],
   "source": [
    "from sklearn.cross_validation import cross_val_score, ShuffleSplit\n",
    "import numpy as np\n",
    "from sklearn.tree import DecisionTreeClassifier\n",
    "from sklearn.cross_validation import cross_val_score\n",
    "clf = DecisionTreeClassifier(random_state=123)\n",
    "scores = []\n",
    "## 通过决策树分类器对特征进行评估，找出对分类性能贡献最大的特征\n",
    "## X_val.shape[1]，shape是二维数组，这里取的是列数，也就是特征的数量\n",
    "for i in range(X_val.shape[1]):\n",
    "    # 交叉验证（模型，特征向量（一次只取一个），目标向量，评判标准，交叉策略）\n",
    "    # cv(样本数，交叉验证次数，测试集占总样本的比例)\n",
    "    score = cross_val_score(clf, X_val[:, i:i+1], y, scoring=\"accuracy\",\n",
    "                              cv=ShuffleSplit(len(X_val), 3, .3))\n",
    "    scores.append((round(np.mean(score), 3), names[i]))\n",
    "print(sorted(scores, reverse=True))"
   ]
  },
  {
   "cell_type": "code",
   "execution_count": null,
   "id": "aa707be9",
   "metadata": {},
   "outputs": [],
   "source": [
    "scores_chi2"
   ]
  },
  {
   "cell_type": "code",
   "execution_count": null,
   "id": "2e46c6b1",
   "metadata": {},
   "outputs": [],
   "source": [
    "from sklearn.feature_selection import RFE\n",
    "from sklearn.svm import SVC\n",
    "\n",
    "clf = SVC(kernel='linear')\n",
    "\n",
    "# 选择一个最好的特征\n",
    "rfe = RFE(clf, n_features_to_select=1)\n",
    "rfe.fit(X_val,y)\n",
    "\n",
    "# rfe.ranking_每个特征的排名信息\n",
    "for x in rfe.ranking_:\n",
    "    print(names[x-1], rfe.ranking_[x-1])"
   ]
  },
  {
   "cell_type": "code",
   "execution_count": null,
   "id": "308825fa",
   "metadata": {},
   "outputs": [],
   "source": [
    "from sklearn.ensemble import RandomForestClassifier\n",
    "clf = RandomForestClassifier(n_estimators=10, random_state=123)\n",
    "\n",
    "clf.fit(X_val, y)\n",
    "\n",
    "names, clf.feature_importances_\n",
    "for feature in zip(names, clf.feature_importances_):\n",
    "    print(feature)"
   ]
  },
  {
   "cell_type": "code",
   "execution_count": null,
   "id": "293504d7",
   "metadata": {},
   "outputs": [],
   "source": [
    "clf.feature_importances_"
   ]
  },
  {
   "cell_type": "code",
   "execution_count": null,
   "id": "ff9beeb6",
   "metadata": {},
   "outputs": [],
   "source": [
    "range(1, names)"
   ]
  },
  {
   "cell_type": "code",
   "execution_count": null,
   "id": "36f071e4",
   "metadata": {},
   "outputs": [],
   "source": [
    "import matplotlib.pyplot as plt\n",
    "plt.title('Feature Importance')\n",
    "plt.bar(range(0, len(names)), clf.feature_importances_)\n",
    "plt.xticks(range(0,len(names)), names)\n",
    "plt.show()"
   ]
  }
 ],
 "metadata": {
  "kernelspec": {
   "display_name": "Python 3 (ipykernel)",
   "language": "python",
   "name": "python3"
  },
  "language_info": {
   "codemirror_mode": {
    "name": "ipython",
    "version": 3
   },
   "file_extension": ".py",
   "mimetype": "text/x-python",
   "name": "python",
   "nbconvert_exporter": "python",
   "pygments_lexer": "ipython3",
   "version": "3.9.12"
  }
 },
 "nbformat": 4,
 "nbformat_minor": 5
}

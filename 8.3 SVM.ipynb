{
 "cells": [
  {
   "cell_type": "code",
   "execution_count": null,
   "id": "851e9b16",
   "metadata": {},
   "outputs": [],
   "source": [
    "from sklearn.datasets import load_iris\n",
    "from sklearn.svm import SVC\n",
    "from sklearn.linear_model import LogisticRegression\n",
    "\n",
    "iris = load_iris()\n",
    "#print(iris.DESCR)"
   ]
  },
  {
   "cell_type": "code",
   "execution_count": null,
   "id": "5769515e",
   "metadata": {},
   "outputs": [],
   "source": [
    "## linear划分时画的是直线\n",
    "clf = SVC(kernel='linear')\n",
    "clf.fit(iris.data, iris.target)"
   ]
  },
  {
   "cell_type": "code",
   "execution_count": null,
   "id": "28ce145f",
   "metadata": {},
   "outputs": [],
   "source": [
    "clf.predict(iris.data)"
   ]
  },
  {
   "cell_type": "code",
   "execution_count": null,
   "id": "0e270777",
   "metadata": {},
   "outputs": [],
   "source": [
    "X = iris.data[0:100,[2,3]]\n",
    "y = iris.target[0:100]\n",
    "\n",
    "clf1 = SVC(kernel=\"linear\")\n",
    "clf1.fit(X, y)\n",
    "\n",
    "clf2 = LogisticRegression()\n",
    "clf2.fit(X, y)"
   ]
  },
  {
   "cell_type": "code",
   "execution_count": null,
   "id": "20bc3464",
   "metadata": {},
   "outputs": [],
   "source": [
    "## SVM和逻辑回归模型的比较\n",
    "## 画图时，只有模型不同，可以包装\n",
    "from itertools import product\n",
    "import numpy as np\n",
    "import matplotlib.pyplot as plt\n",
    "\n",
    "def plot_estimator(estimator, X, y):\n",
    "    x_min, x_max = X[:, 0].min() - 1, X[:, 0].max() + 1\n",
    "    y_min, y_max = X[:, 1].min() - 1, X[:, 1].max() + 1\n",
    "    xx, yy = np.meshgrid(np.arange(x_min, x_max, 0.1),\n",
    "                         np.arange(y_min, y_max, 0.1))\n",
    "\n",
    "    Z = estimator.predict(np.c_[xx.ravel(), yy.ravel()])\n",
    "    Z = Z.reshape(xx.shape)\n",
    "\n",
    "    plt.plot()\n",
    "    plt.contourf(xx, yy, Z, alpha=0.4, cmap = plt.cm.RdYlBu)\n",
    "    plt.scatter(X[:, 0], X[:, 1], c=y,  cmap = plt.cm.brg)\n",
    "    plt.xlabel('Petal.Length')\n",
    "    plt.ylabel('Petal.Width')\n",
    "    plt.show()"
   ]
  },
  {
   "cell_type": "code",
   "execution_count": null,
   "id": "6c726b44",
   "metadata": {},
   "outputs": [],
   "source": [
    "plot_estimator(clf1, X, y)\n",
    "plot_estimator(clf2, X, y)"
   ]
  },
  {
   "cell_type": "markdown",
   "id": "b56db403",
   "metadata": {},
   "source": [
    "### C越大，边界越窄，新的数据可能越界，犯错的可能性大\n",
    "### C越小，边界越宽，新的数据越界的可能性较低，犯错的可能性小"
   ]
  },
  {
   "cell_type": "code",
   "execution_count": null,
   "id": "94a15470",
   "metadata": {},
   "outputs": [],
   "source": [
    "data = np.array([[-1,2,0],[-2,3,0],[-2,5,0],[-3,-4,0],[-0.1,2,0],[0.2,1,1],[0,1,1],[1,2,1], [1,1,1], [-0.4,0.5,1],[2,5,1]])\n",
    "X = data[:, :2] \n",
    "Y = data[:,2]\n",
    "\n",
    "# Large Margin\n",
    "clf = SVC(C=1.0, kernel='linear')\n",
    "clf.fit(X, Y)\n",
    "plot_estimator(clf,X,Y)\n",
    "\n",
    "# Narrow Margin\n",
    "clf = SVC(C=100000, kernel='linear')\n",
    "clf.fit(X, Y)\n",
    "plot_estimator(clf,X,Y)"
   ]
  },
  {
   "cell_type": "markdown",
   "id": "73e23d21",
   "metadata": {},
   "source": [
    "### 不同的kernel,划分时的线条不同\n",
    "### rbf是不规则曲线，划分的更准，但花费时间更长\n",
    "### linear是直线，花费时间短，但划分的不太准"
   ]
  },
  {
   "cell_type": "code",
   "execution_count": null,
   "id": "c298117e",
   "metadata": {},
   "outputs": [],
   "source": [
    "from itertools import product\n",
    "import numpy as np\n",
    "import matplotlib.pyplot as plt\n",
    "\n",
    "from sklearn.datasets import load_iris\n",
    "from sklearn.svm import SVC\n",
    "\n",
    "iris = load_iris()\n",
    "X = iris.data[:,[2,3]]\n",
    "y = iris.target\n",
    "\n",
    "clf1 = SVC(kernel=\"rbf\")\n",
    "clf1.fit(X, y)\n",
    "\n",
    "clf2 = SVC(kernel=\"poly\")\n",
    "clf2.fit(X, y)\n",
    "\n",
    "clf3 = SVC(kernel=\"linear\")\n",
    "clf3.fit(X, y)"
   ]
  },
  {
   "cell_type": "code",
   "execution_count": null,
   "id": "fc4962c3",
   "metadata": {},
   "outputs": [],
   "source": [
    "x_min, x_max = X[:, 0].min() - 1, X[:, 0].max() + 1\n",
    "y_min, y_max = X[:, 1].min() - 1, X[:, 1].max() + 1\n",
    "xx, yy = np.meshgrid(np.arange(x_min, x_max, 0.1),\n",
    "                     np.arange(y_min, y_max, 0.1))"
   ]
  },
  {
   "cell_type": "code",
   "execution_count": null,
   "id": "d73917dd",
   "metadata": {},
   "outputs": [],
   "source": [
    "### plt.subplots将三张图放在一个画布上\n",
    "### 三张图的变量有在画布上的位置，模型和标题\n",
    "f, axarr = plt.subplots(1, 3, sharex='col', sharey='row', figsize=(20, 5))\n",
    "\n",
    "for idx, clf, title in zip([0,1,2],[clf1, clf2, clf3], ['rbf', 'poly', 'linear']):\n",
    "    Z = clf.predict(np.c_[xx.ravel(), yy.ravel()])\n",
    "    Z = Z.reshape(xx.shape)\n",
    "\n",
    "    axarr[idx].contourf(xx, yy, Z, alpha=0.4, cmap = plt.cm.RdYlBu)\n",
    "    axarr[idx].scatter(X[:, 0], X[:, 1], c=y,  cmap = plt.cm.brg)\n",
    "    axarr[idx].set_title(title)\n",
    "\n",
    "plt.show()"
   ]
  }
 ],
 "metadata": {
  "kernelspec": {
   "display_name": "Python 3 (ipykernel)",
   "language": "python",
   "name": "python3"
  },
  "language_info": {
   "codemirror_mode": {
    "name": "ipython",
    "version": 3
   },
   "file_extension": ".py",
   "mimetype": "text/x-python",
   "name": "python",
   "nbconvert_exporter": "python",
   "pygments_lexer": "ipython3",
   "version": "3.9.12"
  }
 },
 "nbformat": 4,
 "nbformat_minor": 5
}
